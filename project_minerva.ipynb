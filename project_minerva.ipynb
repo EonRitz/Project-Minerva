{
 "cells": [
  {
   "cell_type": "markdown",
   "metadata": {},
   "source": [
    "# Project Minerva\n",
    "\n",
    "Overall, this code creates a basic AI assistant called \"Minerva\" that can perform various tasks based on voice commands."
   ]
  },
  {
   "cell_type": "markdown",
   "metadata": {},
   "source": [
    "## Installing Modules\n",
    "\n",
    "These lines pip install the necessary Python libraries and modules for your Minerva AI Assistant."
   ]
  },
  {
   "cell_type": "code",
   "execution_count": 155,
   "metadata": {},
   "outputs": [
    {
     "name": "stdout",
     "output_type": "stream",
     "text": [
      "Requirement already satisfied: pyttsx3 in c:\\users\\roner\\appdata\\local\\packages\\pythonsoftwarefoundation.python.3.10_qbz5n2kfra8p0\\localcache\\local-packages\\python310\\site-packages (2.90)Note: you may need to restart the kernel to use updated packages.\n",
      "\n",
      "Requirement already satisfied: comtypes in c:\\users\\roner\\appdata\\local\\packages\\pythonsoftwarefoundation.python.3.10_qbz5n2kfra8p0\\localcache\\local-packages\\python310\\site-packages (from pyttsx3) (1.2.0)\n",
      "Requirement already satisfied: pypiwin32 in c:\\users\\roner\\appdata\\local\\packages\\pythonsoftwarefoundation.python.3.10_qbz5n2kfra8p0\\localcache\\local-packages\\python310\\site-packages (from pyttsx3) (223)\n",
      "Requirement already satisfied: pywin32 in c:\\users\\roner\\appdata\\local\\packages\\pythonsoftwarefoundation.python.3.10_qbz5n2kfra8p0\\localcache\\local-packages\\python310\\site-packages (from pyttsx3) (306)\n"
     ]
    },
    {
     "name": "stderr",
     "output_type": "stream",
     "text": [
      "\n",
      "[notice] A new release of pip is available: 23.2.1 -> 23.3.1\n",
      "[notice] To update, run: C:\\Users\\roner\\AppData\\Local\\Microsoft\\WindowsApps\\PythonSoftwareFoundation.Python.3.10_qbz5n2kfra8p0\\python.exe -m pip install --upgrade pip\n"
     ]
    },
    {
     "name": "stdout",
     "output_type": "stream",
     "text": [
      "Note: you may need to restart the kernel to use updated packages.Requirement already satisfied: SpeechRecognition in c:\\users\\roner\\appdata\\local\\packages\\pythonsoftwarefoundation.python.3.10_qbz5n2kfra8p0\\localcache\\local-packages\\python310\\site-packages (3.10.0)\n",
      "Requirement already satisfied: requests>=2.26.0 in c:\\users\\roner\\appdata\\local\\packages\\pythonsoftwarefoundation.python.3.10_qbz5n2kfra8p0\\localcache\\local-packages\\python310\\site-packages (from SpeechRecognition) (2.31.0)\n",
      "Requirement already satisfied: charset-normalizer<4,>=2 in c:\\users\\roner\\appdata\\local\\packages\\pythonsoftwarefoundation.python.3.10_qbz5n2kfra8p0\\localcache\\local-packages\\python310\\site-packages (from requests>=2.26.0->SpeechRecognition) (3.2.0)\n",
      "Requirement already satisfied: idna<4,>=2.5 in c:\\users\\roner\\appdata\\local\\packages\\pythonsoftwarefoundation.python.3.10_qbz5n2kfra8p0\\localcache\\local-packages\\python310\\site-packages (from requests>=2.26.0->SpeechRecognition) (3.4)\n",
      "Requirement already satisfied: urllib3<3,>=1.21.1 in c:\\users\\roner\\appdata\\local\\packages\\pythonsoftwarefoundation.python.3.10_qbz5n2kfra8p0\\localcache\\local-packages\\python310\\site-packages (from requests>=2.26.0->SpeechRecognition) (2.0.5)\n",
      "Requirement already satisfied: certifi>=2017.4.17 in c:\\users\\roner\\appdata\\local\\packages\\pythonsoftwarefoundation.python.3.10_qbz5n2kfra8p0\\localcache\\local-packages\\python310\\site-packages (from requests>=2.26.0->SpeechRecognition) (2023.7.22)\n",
      "\n"
     ]
    },
    {
     "name": "stderr",
     "output_type": "stream",
     "text": [
      "\n",
      "[notice] A new release of pip is available: 23.2.1 -> 23.3.1\n",
      "[notice] To update, run: C:\\Users\\roner\\AppData\\Local\\Microsoft\\WindowsApps\\PythonSoftwareFoundation.Python.3.10_qbz5n2kfra8p0\\python.exe -m pip install --upgrade pip\n"
     ]
    },
    {
     "name": "stdout",
     "output_type": "stream",
     "text": [
      "Requirement already satisfied: wikipedia in c:\\users\\roner\\appdata\\local\\packages\\pythonsoftwarefoundation.python.3.10_qbz5n2kfra8p0\\localcache\\local-packages\\python310\\site-packages (1.4.0)\n",
      "Requirement already satisfied: beautifulsoup4 in c:\\users\\roner\\appdata\\local\\packages\\pythonsoftwarefoundation.python.3.10_qbz5n2kfra8p0\\localcache\\local-packages\\python310\\site-packages (from wikipedia) (4.12.2)\n",
      "Requirement already satisfied: requests<3.0.0,>=2.0.0 in c:\\users\\roner\\appdata\\local\\packages\\pythonsoftwarefoundation.python.3.10_qbz5n2kfra8p0\\localcache\\local-packages\\python310\\site-packages (from wikipedia) (2.31.0)\n",
      "Requirement already satisfied: charset-normalizer<4,>=2 in c:\\users\\roner\\appdata\\local\\packages\\pythonsoftwarefoundation.python.3.10_qbz5n2kfra8p0\\localcache\\local-packages\\python310\\site-packages (from requests<3.0.0,>=2.0.0->wikipedia) (3.2.0)\n",
      "Requirement already satisfied: idna<4,>=2.5 in c:\\users\\roner\\appdata\\local\\packages\\pythonsoftwarefoundation.python.3.10_qbz5n2kfra8p0\\localcache\\local-packages\\python310\\site-packages (from requests<3.0.0,>=2.0.0->wikipedia) (3.4)\n",
      "Requirement already satisfied: urllib3<3,>=1.21.1 in c:\\users\\roner\\appdata\\local\\packages\\pythonsoftwarefoundation.python.3.10_qbz5n2kfra8p0\\localcache\\local-packages\\python310\\site-packages (from requests<3.0.0,>=2.0.0->wikipedia) (2.0.5)\n",
      "Requirement already satisfied: certifi>=2017.4.17 in c:\\users\\roner\\appdata\\local\\packages\\pythonsoftwarefoundation.python.3.10_qbz5n2kfra8p0\\localcache\\local-packages\\python310\\site-packages (from requests<3.0.0,>=2.0.0->wikipedia) (2023.7.22)\n",
      "Requirement already satisfied: soupsieve>1.2 in c:\\users\\roner\\appdata\\local\\packages\\pythonsoftwarefoundation.python.3.10_qbz5n2kfra8p0\\localcache\\local-packages\\python310\\site-packages (from beautifulsoup4->wikipedia) (2.5)\n",
      "Note: you may need to restart the kernel to use updated packages.\n"
     ]
    },
    {
     "name": "stderr",
     "output_type": "stream",
     "text": [
      "\n",
      "[notice] A new release of pip is available: 23.2.1 -> 23.3.1\n",
      "[notice] To update, run: C:\\Users\\roner\\AppData\\Local\\Microsoft\\WindowsApps\\PythonSoftwareFoundation.Python.3.10_qbz5n2kfra8p0\\python.exe -m pip install --upgrade pip\n"
     ]
    },
    {
     "name": "stdout",
     "output_type": "stream",
     "text": [
      "Requirement already satisfied: pyautogui in c:\\users\\roner\\appdata\\local\\packages\\pythonsoftwarefoundation.python.3.10_qbz5n2kfra8p0\\localcache\\local-packages\\python310\\site-packages (0.9.54)\n",
      "Requirement already satisfied: pymsgbox in c:\\users\\roner\\appdata\\local\\packages\\pythonsoftwarefoundation.python.3.10_qbz5n2kfra8p0\\localcache\\local-packages\\python310\\site-packages (from pyautogui) (1.0.9)\n",
      "Requirement already satisfied: pytweening>=1.0.4 in c:\\users\\roner\\appdata\\local\\packages\\pythonsoftwarefoundation.python.3.10_qbz5n2kfra8p0\\localcache\\local-packages\\python310\\site-packages (from pyautogui) (1.0.7)\n",
      "Requirement already satisfied: pyscreeze>=0.1.21 in c:\\users\\roner\\appdata\\local\\packages\\pythonsoftwarefoundation.python.3.10_qbz5n2kfra8p0\\localcache\\local-packages\\python310\\site-packages (from pyautogui) (0.1.29)\n",
      "Requirement already satisfied: pygetwindow>=0.0.5 in c:\\users\\roner\\appdata\\local\\packages\\pythonsoftwarefoundation.python.3.10_qbz5n2kfra8p0\\localcache\\local-packages\\python310\\site-packages (from pyautogui) (0.0.9)\n",
      "Requirement already satisfied: mouseinfo in c:\\users\\roner\\appdata\\local\\packages\\pythonsoftwarefoundation.python.3.10_qbz5n2kfra8p0\\localcache\\local-packages\\python310\\site-packages (from pyautogui) (0.1.3)\n",
      "Requirement already satisfied: pyrect in c:\\users\\roner\\appdata\\local\\packages\\pythonsoftwarefoundation.python.3.10_qbz5n2kfra8p0\\localcache\\local-packages\\python310\\site-packages (from pygetwindow>=0.0.5->pyautogui) (0.2.0)\n",
      "Requirement already satisfied: pyscreenshot in c:\\users\\roner\\appdata\\local\\packages\\pythonsoftwarefoundation.python.3.10_qbz5n2kfra8p0\\localcache\\local-packages\\python310\\site-packages (from pyscreeze>=0.1.21->pyautogui) (3.1)\n",
      "Requirement already satisfied: Pillow>=9.2.0 in c:\\users\\roner\\appdata\\local\\packages\\pythonsoftwarefoundation.python.3.10_qbz5n2kfra8p0\\localcache\\local-packages\\python310\\site-packages (from pyscreeze>=0.1.21->pyautogui) (10.1.0)\n",
      "Requirement already satisfied: pyperclip in c:\\users\\roner\\appdata\\local\\packages\\pythonsoftwarefoundation.python.3.10_qbz5n2kfra8p0\\localcache\\local-packages\\python310\\site-packages (from mouseinfo->pyautogui) (1.8.2)\n",
      "Requirement already satisfied: EasyProcess in c:\\users\\roner\\appdata\\local\\packages\\pythonsoftwarefoundation.python.3.10_qbz5n2kfra8p0\\localcache\\local-packages\\python310\\site-packages (from pyscreenshot->pyscreeze>=0.1.21->pyautogui) (1.1)\n",
      "Requirement already satisfied: entrypoint2 in c:\\users\\roner\\appdata\\local\\packages\\pythonsoftwarefoundation.python.3.10_qbz5n2kfra8p0\\localcache\\local-packages\\python310\\site-packages (from pyscreenshot->pyscreeze>=0.1.21->pyautogui) (1.1)\n",
      "Requirement already satisfied: mss in c:\\users\\roner\\appdata\\local\\packages\\pythonsoftwarefoundation.python.3.10_qbz5n2kfra8p0\\localcache\\local-packages\\python310\\site-packages (from pyscreenshot->pyscreeze>=0.1.21->pyautogui) (9.0.1)\n",
      "Note: you may need to restart the kernel to use updated packages.\n"
     ]
    },
    {
     "name": "stderr",
     "output_type": "stream",
     "text": [
      "\n",
      "[notice] A new release of pip is available: 23.2.1 -> 23.3.1\n",
      "[notice] To update, run: C:\\Users\\roner\\AppData\\Local\\Microsoft\\WindowsApps\\PythonSoftwareFoundation.Python.3.10_qbz5n2kfra8p0\\python.exe -m pip install --upgrade pip\n"
     ]
    },
    {
     "name": "stdout",
     "output_type": "stream",
     "text": [
      "Requirement already satisfied: psutil in c:\\users\\roner\\appdata\\local\\packages\\pythonsoftwarefoundation.python.3.10_qbz5n2kfra8p0\\localcache\\local-packages\\python310\\site-packages (5.9.5)\n",
      "Note: you may need to restart the kernel to use updated packages.\n"
     ]
    },
    {
     "name": "stderr",
     "output_type": "stream",
     "text": [
      "\n",
      "[notice] A new release of pip is available: 23.2.1 -> 23.3.1\n",
      "[notice] To update, run: C:\\Users\\roner\\AppData\\Local\\Microsoft\\WindowsApps\\PythonSoftwareFoundation.Python.3.10_qbz5n2kfra8p0\\python.exe -m pip install --upgrade pip\n"
     ]
    },
    {
     "name": "stdout",
     "output_type": "stream",
     "text": [
      "Requirement already satisfied: pyjokes in c:\\users\\roner\\appdata\\local\\packages\\pythonsoftwarefoundation.python.3.10_qbz5n2kfra8p0\\localcache\\local-packages\\python310\\site-packages (0.6.0)\n",
      "Note: you may need to restart the kernel to use updated packages.\n"
     ]
    },
    {
     "name": "stderr",
     "output_type": "stream",
     "text": [
      "\n",
      "[notice] A new release of pip is available: 23.2.1 -> 23.3.1\n",
      "[notice] To update, run: C:\\Users\\roner\\AppData\\Local\\Microsoft\\WindowsApps\\PythonSoftwareFoundation.Python.3.10_qbz5n2kfra8p0\\python.exe -m pip install --upgrade pip\n"
     ]
    }
   ],
   "source": [
    "%pip install pyttsx3\n",
    "%pip install SpeechRecognition\n",
    "%pip install wikipedia\n",
    "%pip install pyautogui\n",
    "%pip install psutil\n",
    "%pip install pyjokes"
   ]
  },
  {
   "cell_type": "markdown",
   "metadata": {},
   "source": [
    "## Importing Libraries\n",
    "\n",
    "These lines import the necessary Python libraries and modules for your Minerva AI Assistant."
   ]
  },
  {
   "cell_type": "code",
   "execution_count": 156,
   "metadata": {},
   "outputs": [],
   "source": [
    "import pyttsx3 # pip install pyttsx3\n",
    "import datetime\n",
    "import speech_recognition as sr # pip install SpeechRecognition\n",
    "import wikipedia # pip install wikipedia\n",
    "import smtplib\n",
    "import webbrowser as wb\n",
    "import os\n",
    "import pyautogui # pip install pyautogui\n",
    "import psutil # pip install psutil\n",
    "import pyjokes # pip install pyjokes"
   ]
  },
  {
   "cell_type": "markdown",
   "metadata": {},
   "source": [
    "## Setting the Voice Engine\n",
    "\n",
    "This section initializes the text-to-speech engine (pyttsx3) and sets a desired voice for your AI assistant."
   ]
  },
  {
   "cell_type": "code",
   "execution_count": 157,
   "metadata": {},
   "outputs": [],
   "source": [
    "engine = pyttsx3.init()\n",
    "voices = engine.getProperty('voices')\n",
    "desired_voice = voices[3]\n",
    "engine.setProperty('voice', desired_voice.id)"
   ]
  },
  {
   "cell_type": "markdown",
   "metadata": {},
   "source": [
    "## Functions\n",
    "The following functions are defined to perform specific actions:"
   ]
  },
  {
   "cell_type": "markdown",
   "metadata": {},
   "source": [
    "#### speak(audio): \n",
    "Takes a string as input and uses the text-to-speech engine to speak it."
   ]
  },
  {
   "cell_type": "code",
   "execution_count": 158,
   "metadata": {},
   "outputs": [],
   "source": [
    "def speak(audio):\n",
    "    engine.say(audio)\n",
    "    engine.runAndWait()"
   ]
  },
  {
   "cell_type": "markdown",
   "metadata": {},
   "source": [
    "#### time():\n",
    "Gets the current time and speaks it."
   ]
  },
  {
   "cell_type": "code",
   "execution_count": 159,
   "metadata": {},
   "outputs": [],
   "source": [
    "def time():\n",
    "    Time = datetime.datetime.now().strftime(\"%I:%M\")\n",
    "    speak(f\"The current time is {Time}\")"
   ]
  },
  {
   "cell_type": "markdown",
   "metadata": {},
   "source": [
    "#### date():\n",
    "Retrieves the current date and speaks it."
   ]
  },
  {
   "cell_type": "code",
   "execution_count": 160,
   "metadata": {},
   "outputs": [],
   "source": [
    "def date():\n",
    "    year = int(datetime.datetime.now().year)\n",
    "    month = int(datetime.datetime.now().month)\n",
    "    months_list = [\"January\", \"February\", \"March\", \"April\", \"May\", \"June\", \"July\", \"August\", \"September\", \"October\", \"November\", \"December\"]\n",
    "    month = months_list[(month - 1)]\n",
    "    day = int(datetime.datetime.now().day)\n",
    "    speak(f\"Today is {month} {day} in the year {year}.\")"
   ]
  },
  {
   "cell_type": "markdown",
   "metadata": {},
   "source": [
    "#### greetings():\n",
    "Greets the user based on the time of day and provides basic information about the assistant."
   ]
  },
  {
   "cell_type": "code",
   "execution_count": 161,
   "metadata": {},
   "outputs": [],
   "source": [
    "def greetings():\n",
    "    hour = datetime.datetime.now().hour\n",
    "    if hour >= 6 and hour <12:\n",
    "        hour_of_day = \"morning\"\n",
    "    elif hour >=12 and hour <18:\n",
    "        hour_of_day = \"afternoon\"\n",
    "    elif hour >=18 and hour <24:\n",
    "        hour_of_day = \"evening\"\n",
    "    else:\n",
    "        hour_of_day = \"night\"\n",
    "    speak(f\"Good {hour_of_day}... It's a pleasure to have you here.\")\n",
    "    date()\n",
    "    time()\n",
    "    speak(\"Welcome! I am Minerva, your intelligent virtual assistant! How can I assist you today?\")"
   ]
  },
  {
   "cell_type": "markdown",
   "metadata": {},
   "source": [
    "#### takeCommand():\n",
    "Listens to the user's voice command, recognizes it, and returns the recognized text."
   ]
  },
  {
   "cell_type": "code",
   "execution_count": 162,
   "metadata": {},
   "outputs": [],
   "source": [
    "def takeCommand():\n",
    "    r = sr.Recognizer()\n",
    "    with sr.Microphone() as source:\n",
    "        print(\"Listening...\")\n",
    "        speak(\"I am listening...\")\n",
    "        r.pause_threshold = 1.5\n",
    "        audio = r.listen(source)\n",
    "    \n",
    "    try:\n",
    "        print(\"Recognizing...\")\n",
    "        query = r.recognize_google(audio, language ='en-in')\n",
    "        print(query)\n",
    "    except Exception as e:\n",
    "        print(e)\n",
    "        speak(\"Please say the again\")\n",
    "        return \"None\"\n",
    "    return query"
   ]
  },
  {
   "cell_type": "markdown",
   "metadata": {},
   "source": [
    "#### sendmail(to, content):\n",
    "Sends an email using SMTP to the specified recipient with the given content."
   ]
  },
  {
   "cell_type": "code",
   "execution_count": 163,
   "metadata": {},
   "outputs": [],
   "source": [
    "def sendmail(to, content):\n",
    "    server = smtplib.SMTP('smtp.gmail.com', 587)\n",
    "    server.ehlo()\n",
    "    server.starttls()\n",
    "    server.login('xyza@gamil.com', 'Password')\n",
    "    server.sendmail('r.chichirita@gmail.com', to, content)\n",
    "    server.close()"
   ]
  },
  {
   "cell_type": "markdown",
   "metadata": {},
   "source": [
    "#### screenshot():\n",
    "Takes a screenshot of the screen and saves it to a file."
   ]
  },
  {
   "cell_type": "code",
   "execution_count": 164,
   "metadata": {},
   "outputs": [],
   "source": [
    "def screenshot():\n",
    "    img = pyautogui.screenshot()\n",
    "    img.save(\"screenshot\\ss.png\")"
   ]
  },
  {
   "cell_type": "markdown",
   "metadata": {},
   "source": [
    "#### cpu():\n",
    "Retrieves and speaks the CPU usage and battery percentage."
   ]
  },
  {
   "cell_type": "code",
   "execution_count": 165,
   "metadata": {},
   "outputs": [],
   "source": [
    "def cpu():\n",
    "    usage = str(psutil.cpu_percent())\n",
    "    speak(f'CPU is at {usage} percentage')\n",
    "    battery = psutil.sensors_battery()\n",
    "    speak(f'and the Battery is at {battery.percent} percent.')"
   ]
  },
  {
   "cell_type": "markdown",
   "metadata": {},
   "source": [
    "#### jokes():\n",
    "Tells a random joke using the pyjokes library."
   ]
  },
  {
   "cell_type": "code",
   "execution_count": 166,
   "metadata": {},
   "outputs": [],
   "source": [
    "def jokes():\n",
    "    speak(pyjokes.get_joke())"
   ]
  },
  {
   "cell_type": "markdown",
   "metadata": {},
   "source": [
    "#### weather():\n",
    "Asks the user for a city and fetches and speaks the current weather for that city using web scraping."
   ]
  },
  {
   "cell_type": "code",
   "execution_count": 167,
   "metadata": {},
   "outputs": [],
   "source": [
    "def weather():\n",
    "    import requests\n",
    "    from bs4 import BeautifulSoup\n",
    "\n",
    "    speak(\"Which city, do you want to know the weather of?\")\n",
    "    city = takeCommand()\n",
    "\n",
    "    url = f'https://wttr.in/{city.replace(\" \", \"+\")}?format=%C+%t+%w'\n",
    "\n",
    "    response = requests.get(url)\n",
    "\n",
    "    if response.status_code == 200:\n",
    "        soup = BeautifulSoup(response.text, 'html.parser')\n",
    "        weather_info = soup.get_text()\n",
    "        print(f\"Weather in {city}: {weather_info}\")\n",
    "        speak(f\"Weather in {city}: {weather_info}\")\n",
    "    else:\n",
    "        print(f\"Failed to fetch weather data. Status code: {response.status_code}\")\n",
    "        speak(f\"Failed to fetch weather data. Status code: {response.status_code}\")"
   ]
  },
  {
   "cell_type": "markdown",
   "metadata": {},
   "source": [
    "## Main Body\n",
    "The main body of the code is wrapped in an if __name__ == \"__main__\": block, and it consists of a loop that continually listens to the user's voice commands and performs actions based on the recognized commands.\n",
    "\n",
    "* It starts with a greeting message.\n",
    "\n",
    "* It listens to the user's voice command and responds to various commands like asking for the time, date, searching on Wikipedia, sending emails, opening websites in Chrome, and more.\n",
    "\n",
    "* It can remember and recall information using a text file.\n",
    "\n",
    "* It has commands to take a screenshot, check CPU usage and battery, tell jokes, and fetch weather information.\n",
    "\n",
    "* The loop can be terminated with the command \"offline.\""
   ]
  },
  {
   "cell_type": "code",
   "execution_count": 168,
   "metadata": {},
   "outputs": [
    {
     "name": "stdout",
     "output_type": "stream",
     "text": [
      "Listening...\n",
      "Recognizing...\n",
      "play songs\n"
     ]
    }
   ],
   "source": [
    "if __name__ == \"__main__\":\n",
    "    greetings()\n",
    "    while True:\n",
    "        query = takeCommand().lower()\n",
    "\n",
    "        if 'time' in query:\n",
    "            time()\n",
    "        elif 'date' in query:\n",
    "            date()\n",
    "        elif 'wikipedia' in query:\n",
    "            speak('Searching...')\n",
    "            query = query.replace(\"wikipedia\", \"\")\n",
    "            result = wikipedia.summary(query, sentences = 2)\n",
    "            print(result)\n",
    "            speak(\"According to Wikipedia...\")\n",
    "            speak(result)\n",
    "        elif 'send email' in query:\n",
    "            try:\n",
    "                speak(\"What should I say?\")\n",
    "                content = takeCommand()\n",
    "                to = 'roner@hotmail.ph'\n",
    "                sendmail(to, content)\n",
    "                speak(\"Email has been sent.\")\n",
    "            except Exception as e:\n",
    "                print(e)\n",
    "                speak(\"Unable to send the email\")\n",
    "\n",
    "        elif 'open in chrome' in query:\n",
    "            speak(\"What should I search for?\")\n",
    "            chromepath = 'C:/Program Files (x86)/Google/Chrome/Application/chrome.exe %s'\n",
    "            search = takeCommand().lower()\n",
    "            wb.get(chromepath).open_new_tab(search+'.com')\n",
    "\n",
    "        elif 'logout' in query:\n",
    "            os.system(\"shutdown -1\")\n",
    "        elif 'shutdown' in query:\n",
    "            os.system(\"shutdown /s /t 1\")\n",
    "        elif 'restart' in query:\n",
    "            os.system(\"shutdown /r /t 1\")\n",
    "\n",
    "        elif 'play songs' in query:\n",
    "            songs_dir = 'music/'\n",
    "            if os.path.exists(songs_dir):\n",
    "                songs = [file for file in os.listdir(songs_dir) if file.endswith('.mp3') or file.endswith('.wav')]\n",
    "                if songs:\n",
    "                    # Play the first music file in the directory\n",
    "                    os.startfile(os.path.join(songs_dir, songs[0]))\n",
    "                else:\n",
    "                    speak(\"No compatible music files found in the 'music/' directory.\")\n",
    "            else:\n",
    "                speak(\"The 'music/' directory does not exist.\")\n",
    "            break\n",
    "\n",
    "        elif 'remember' in query:\n",
    "            speak(\"What should I remember?\")\n",
    "            data = takeCommand()\n",
    "            speak(\"You said, to remeber that...\" + data)\n",
    "            remember = open('data.txt', 'w')\n",
    "            remember.write(data)\n",
    "            remember.close()\n",
    "        \n",
    "        elif 'do you know anything' in query:\n",
    "            remember = open('data.txt', 'r')\n",
    "            speak(\"You said, to remember that...\" + remember.read())\n",
    "\n",
    "        elif 'screenshot' in query:\n",
    "            screenshot()\n",
    "            speak(\"Screenshot taken!\")\n",
    "        \n",
    "        elif 'cpu' in query:\n",
    "            cpu()\n",
    "\n",
    "        elif 'joke' in query:\n",
    "            jokes()\n",
    "\n",
    "        elif 'weather' in query:\n",
    "            weather()\n",
    "\n",
    "        elif 'offline' in query:\n",
    "            quit()\n",
    "        elif 'stop' in query:\n",
    "            break"
   ]
  }
 ],
 "metadata": {
  "kernelspec": {
   "display_name": "Python 3",
   "language": "python",
   "name": "python3"
  },
  "language_info": {
   "codemirror_mode": {
    "name": "ipython",
    "version": 3
   },
   "file_extension": ".py",
   "mimetype": "text/x-python",
   "name": "python",
   "nbconvert_exporter": "python",
   "pygments_lexer": "ipython3",
   "version": "3.10.11"
  }
 },
 "nbformat": 4,
 "nbformat_minor": 2
}
